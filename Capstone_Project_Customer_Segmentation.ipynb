{
  "nbformat": 4,
  "nbformat_minor": 0,
  "metadata": {
    "colab": {
      "name": "Capstone Project - Customer Segmentation.ipynb",
      "provenance": [],
      "collapsed_sections": [],
      "mount_file_id": "1SErUY0quSpMB5M2VGsEd_sdhgET_yGpV",
      "authorship_tag": "ABX9TyP6EckW3o2xBiBUQJpfz31d",
      "include_colab_link": true
    },
    "kernelspec": {
      "name": "python3",
      "display_name": "Python 3"
    },
    "language_info": {
      "name": "python"
    }
  },
  "cells": [
    {
      "cell_type": "markdown",
      "metadata": {
        "id": "view-in-github",
        "colab_type": "text"
      },
      "source": [
        "<a href=\"https://colab.research.google.com/github/amolprabhu/Customer-Segmentation/blob/main/Capstone_Project_Customer_Segmentation.ipynb\" target=\"_parent\"><img src=\"https://colab.research.google.com/assets/colab-badge.svg\" alt=\"Open In Colab\"/></a>"
      ]
    },
    {
      "cell_type": "markdown",
      "metadata": {
        "id": "Y06xIdG26kRF"
      },
      "source": [
        "## <b> Problem Description </b>\n",
        "\n",
        "### In this project, your task is to identify major customer segments on a transnational data set which contains all the transactions occurring between 01/12/2010 and 09/12/2011 for a UK-based and registered non-store online retail.The company mainly sells unique all-occasion gifts. Many customers of the company are wholesalers."
      ]
    },
    {
      "cell_type": "markdown",
      "metadata": {
        "id": "AlLxAtlziMbP"
      },
      "source": [
        "## <b> Data Description </b>\n",
        "\n",
        "### <b>Attribute Information: </b>\n",
        "\n",
        "* ### InvoiceNo: Invoice number. Nominal, a 6-digit integral number uniquely assigned to each transaction. If this code starts with letter 'c', it indicates a cancellation.\n",
        "* ### StockCode: Product (item) code. Nominal, a 5-digit integral number uniquely assigned to each distinct product.\n",
        "* ### Description: Product (item) name. Nominal.\n",
        "* ### Quantity: The quantities of each product (item) per transaction. Numeric.\n",
        "* ### InvoiceDate: Invice Date and time. Numeric, the day and time when each transaction was generated.\n",
        "* ### UnitPrice: Unit price. Numeric, Product price per unit in sterling.\n",
        "* ### CustomerID: Customer number. Nominal, a 5-digit integral number uniquely assigned to each customer.\n",
        "* ### Country: Country name. Nominal, the name of the country where each customer resides."
      ]
    },
    {
      "cell_type": "code",
      "metadata": {
        "id": "SGDGiEbt4m_2"
      },
      "source": [
        "# Importing necessary libraries\n",
        "import pandas as pd\n",
        "import numpy as np\n",
        "import matplotlib.pyplot as plt\n",
        "import seaborn as sns"
      ],
      "execution_count": 1,
      "outputs": []
    },
    {
      "cell_type": "code",
      "metadata": {
        "id": "iExiif-X5g5d"
      },
      "source": [
        "# Importing the data\n",
        "data = pd.read_excel('/content/drive/MyDrive/Amol Prabhu - Capstone Project - Customer Segmentation/Online Retail.xlsx')"
      ],
      "execution_count": 2,
      "outputs": []
    },
    {
      "cell_type": "code",
      "metadata": {
        "colab": {
          "base_uri": "https://localhost:8080/",
          "height": 206
        },
        "id": "fsE7inv76eOP",
        "outputId": "cf61dacc-a76a-4cf6-bf59-6a28dd8562ab"
      },
      "source": [
        "# First 5 rows of the data\n",
        "data.head()"
      ],
      "execution_count": 3,
      "outputs": [
        {
          "output_type": "execute_result",
          "data": {
            "text/html": [
              "<div>\n",
              "<style scoped>\n",
              "    .dataframe tbody tr th:only-of-type {\n",
              "        vertical-align: middle;\n",
              "    }\n",
              "\n",
              "    .dataframe tbody tr th {\n",
              "        vertical-align: top;\n",
              "    }\n",
              "\n",
              "    .dataframe thead th {\n",
              "        text-align: right;\n",
              "    }\n",
              "</style>\n",
              "<table border=\"1\" class=\"dataframe\">\n",
              "  <thead>\n",
              "    <tr style=\"text-align: right;\">\n",
              "      <th></th>\n",
              "      <th>InvoiceNo</th>\n",
              "      <th>StockCode</th>\n",
              "      <th>Description</th>\n",
              "      <th>Quantity</th>\n",
              "      <th>InvoiceDate</th>\n",
              "      <th>UnitPrice</th>\n",
              "      <th>CustomerID</th>\n",
              "      <th>Country</th>\n",
              "    </tr>\n",
              "  </thead>\n",
              "  <tbody>\n",
              "    <tr>\n",
              "      <th>0</th>\n",
              "      <td>536365</td>\n",
              "      <td>85123A</td>\n",
              "      <td>WHITE HANGING HEART T-LIGHT HOLDER</td>\n",
              "      <td>6</td>\n",
              "      <td>2010-12-01 08:26:00</td>\n",
              "      <td>2.55</td>\n",
              "      <td>17850.0</td>\n",
              "      <td>United Kingdom</td>\n",
              "    </tr>\n",
              "    <tr>\n",
              "      <th>1</th>\n",
              "      <td>536365</td>\n",
              "      <td>71053</td>\n",
              "      <td>WHITE METAL LANTERN</td>\n",
              "      <td>6</td>\n",
              "      <td>2010-12-01 08:26:00</td>\n",
              "      <td>3.39</td>\n",
              "      <td>17850.0</td>\n",
              "      <td>United Kingdom</td>\n",
              "    </tr>\n",
              "    <tr>\n",
              "      <th>2</th>\n",
              "      <td>536365</td>\n",
              "      <td>84406B</td>\n",
              "      <td>CREAM CUPID HEARTS COAT HANGER</td>\n",
              "      <td>8</td>\n",
              "      <td>2010-12-01 08:26:00</td>\n",
              "      <td>2.75</td>\n",
              "      <td>17850.0</td>\n",
              "      <td>United Kingdom</td>\n",
              "    </tr>\n",
              "    <tr>\n",
              "      <th>3</th>\n",
              "      <td>536365</td>\n",
              "      <td>84029G</td>\n",
              "      <td>KNITTED UNION FLAG HOT WATER BOTTLE</td>\n",
              "      <td>6</td>\n",
              "      <td>2010-12-01 08:26:00</td>\n",
              "      <td>3.39</td>\n",
              "      <td>17850.0</td>\n",
              "      <td>United Kingdom</td>\n",
              "    </tr>\n",
              "    <tr>\n",
              "      <th>4</th>\n",
              "      <td>536365</td>\n",
              "      <td>84029E</td>\n",
              "      <td>RED WOOLLY HOTTIE WHITE HEART.</td>\n",
              "      <td>6</td>\n",
              "      <td>2010-12-01 08:26:00</td>\n",
              "      <td>3.39</td>\n",
              "      <td>17850.0</td>\n",
              "      <td>United Kingdom</td>\n",
              "    </tr>\n",
              "  </tbody>\n",
              "</table>\n",
              "</div>"
            ],
            "text/plain": [
              "  InvoiceNo StockCode  ... CustomerID         Country\n",
              "0    536365    85123A  ...    17850.0  United Kingdom\n",
              "1    536365     71053  ...    17850.0  United Kingdom\n",
              "2    536365    84406B  ...    17850.0  United Kingdom\n",
              "3    536365    84029G  ...    17850.0  United Kingdom\n",
              "4    536365    84029E  ...    17850.0  United Kingdom\n",
              "\n",
              "[5 rows x 8 columns]"
            ]
          },
          "metadata": {},
          "execution_count": 3
        }
      ]
    },
    {
      "cell_type": "code",
      "metadata": {
        "colab": {
          "base_uri": "https://localhost:8080/"
        },
        "id": "07W1zxqZ6q5s",
        "outputId": "afcd40fb-67d2-4e21-b12c-46c0b1b1232a"
      },
      "source": [
        "# Information about the data\n",
        "data.info()"
      ],
      "execution_count": 4,
      "outputs": [
        {
          "output_type": "stream",
          "name": "stdout",
          "text": [
            "<class 'pandas.core.frame.DataFrame'>\n",
            "RangeIndex: 541909 entries, 0 to 541908\n",
            "Data columns (total 8 columns):\n",
            " #   Column       Non-Null Count   Dtype         \n",
            "---  ------       --------------   -----         \n",
            " 0   InvoiceNo    541909 non-null  object        \n",
            " 1   StockCode    541909 non-null  object        \n",
            " 2   Description  540455 non-null  object        \n",
            " 3   Quantity     541909 non-null  int64         \n",
            " 4   InvoiceDate  541909 non-null  datetime64[ns]\n",
            " 5   UnitPrice    541909 non-null  float64       \n",
            " 6   CustomerID   406829 non-null  float64       \n",
            " 7   Country      541909 non-null  object        \n",
            "dtypes: datetime64[ns](1), float64(2), int64(1), object(4)\n",
            "memory usage: 33.1+ MB\n"
          ]
        }
      ]
    },
    {
      "cell_type": "code",
      "metadata": {
        "colab": {
          "base_uri": "https://localhost:8080/",
          "height": 300
        },
        "id": "sqqnBLlN7JuL",
        "outputId": "a1c01ffe-8ae8-4ab9-d5cd-a4bf62bb24ea"
      },
      "source": [
        "# Statistical description of the data\n",
        "data.describe()"
      ],
      "execution_count": 5,
      "outputs": [
        {
          "output_type": "execute_result",
          "data": {
            "text/html": [
              "<div>\n",
              "<style scoped>\n",
              "    .dataframe tbody tr th:only-of-type {\n",
              "        vertical-align: middle;\n",
              "    }\n",
              "\n",
              "    .dataframe tbody tr th {\n",
              "        vertical-align: top;\n",
              "    }\n",
              "\n",
              "    .dataframe thead th {\n",
              "        text-align: right;\n",
              "    }\n",
              "</style>\n",
              "<table border=\"1\" class=\"dataframe\">\n",
              "  <thead>\n",
              "    <tr style=\"text-align: right;\">\n",
              "      <th></th>\n",
              "      <th>Quantity</th>\n",
              "      <th>UnitPrice</th>\n",
              "      <th>CustomerID</th>\n",
              "    </tr>\n",
              "  </thead>\n",
              "  <tbody>\n",
              "    <tr>\n",
              "      <th>count</th>\n",
              "      <td>541909.000000</td>\n",
              "      <td>541909.000000</td>\n",
              "      <td>406829.000000</td>\n",
              "    </tr>\n",
              "    <tr>\n",
              "      <th>mean</th>\n",
              "      <td>9.552250</td>\n",
              "      <td>4.611114</td>\n",
              "      <td>15287.690570</td>\n",
              "    </tr>\n",
              "    <tr>\n",
              "      <th>std</th>\n",
              "      <td>218.081158</td>\n",
              "      <td>96.759853</td>\n",
              "      <td>1713.600303</td>\n",
              "    </tr>\n",
              "    <tr>\n",
              "      <th>min</th>\n",
              "      <td>-80995.000000</td>\n",
              "      <td>-11062.060000</td>\n",
              "      <td>12346.000000</td>\n",
              "    </tr>\n",
              "    <tr>\n",
              "      <th>25%</th>\n",
              "      <td>1.000000</td>\n",
              "      <td>1.250000</td>\n",
              "      <td>13953.000000</td>\n",
              "    </tr>\n",
              "    <tr>\n",
              "      <th>50%</th>\n",
              "      <td>3.000000</td>\n",
              "      <td>2.080000</td>\n",
              "      <td>15152.000000</td>\n",
              "    </tr>\n",
              "    <tr>\n",
              "      <th>75%</th>\n",
              "      <td>10.000000</td>\n",
              "      <td>4.130000</td>\n",
              "      <td>16791.000000</td>\n",
              "    </tr>\n",
              "    <tr>\n",
              "      <th>max</th>\n",
              "      <td>80995.000000</td>\n",
              "      <td>38970.000000</td>\n",
              "      <td>18287.000000</td>\n",
              "    </tr>\n",
              "  </tbody>\n",
              "</table>\n",
              "</div>"
            ],
            "text/plain": [
              "            Quantity      UnitPrice     CustomerID\n",
              "count  541909.000000  541909.000000  406829.000000\n",
              "mean        9.552250       4.611114   15287.690570\n",
              "std       218.081158      96.759853    1713.600303\n",
              "min    -80995.000000  -11062.060000   12346.000000\n",
              "25%         1.000000       1.250000   13953.000000\n",
              "50%         3.000000       2.080000   15152.000000\n",
              "75%        10.000000       4.130000   16791.000000\n",
              "max     80995.000000   38970.000000   18287.000000"
            ]
          },
          "metadata": {},
          "execution_count": 5
        }
      ]
    },
    {
      "cell_type": "markdown",
      "metadata": {
        "id": "t8WAHv0jJUHk"
      },
      "source": [
        "##1. Data Cleaning"
      ]
    },
    {
      "cell_type": "markdown",
      "metadata": {
        "id": "inK2qJqPJXWk"
      },
      "source": [
        "### In this step, the main focus will be to handle the null values and other errors in the data. Columns that are not required will also be dropped."
      ]
    },
    {
      "cell_type": "code",
      "metadata": {
        "colab": {
          "base_uri": "https://localhost:8080/"
        },
        "id": "BCRTI98zKNum",
        "outputId": "8241174c-1284-48d9-ec30-09f2ab35b646"
      },
      "source": [
        "# Total null values in each of the columns\n",
        "data.isna().sum()"
      ],
      "execution_count": 6,
      "outputs": [
        {
          "output_type": "execute_result",
          "data": {
            "text/plain": [
              "InvoiceNo           0\n",
              "StockCode           0\n",
              "Description      1454\n",
              "Quantity            0\n",
              "InvoiceDate         0\n",
              "UnitPrice           0\n",
              "CustomerID     135080\n",
              "Country             0\n",
              "dtype: int64"
            ]
          },
          "metadata": {},
          "execution_count": 6
        }
      ]
    },
    {
      "cell_type": "markdown",
      "metadata": {
        "id": "pF21bc11K7T-"
      },
      "source": [
        "## Null values of the Description column"
      ]
    },
    {
      "cell_type": "code",
      "metadata": {
        "colab": {
          "base_uri": "https://localhost:8080/"
        },
        "id": "WJGDA395LGph",
        "outputId": "ac23a29d-22c5-4022-90f2-9458e69b78a7"
      },
      "source": [
        "# Number of unique products in the dataset\n",
        "data['Description'].nunique()"
      ],
      "execution_count": 7,
      "outputs": [
        {
          "output_type": "execute_result",
          "data": {
            "text/plain": [
              "4223"
            ]
          },
          "metadata": {},
          "execution_count": 7
        }
      ]
    },
    {
      "cell_type": "markdown",
      "metadata": {
        "id": "TB97mdOIKx1n"
      },
      "source": [
        "There are 1454 null values in the description column. There are 4223 different products in the dataset. It is not possible to fill the null values in a strategical manner. Hence, we will drop the null values of the description column."
      ]
    },
    {
      "cell_type": "code",
      "metadata": {
        "id": "gKA3vUo_Kot8"
      },
      "source": [
        "# Dropping the null values of the description column\n",
        "data.dropna(subset = ['Description'], inplace = True)"
      ],
      "execution_count": 8,
      "outputs": []
    },
    {
      "cell_type": "markdown",
      "metadata": {
        "id": "R3VPpqccQGMB"
      },
      "source": [
        "## Null values of the Customer ID column"
      ]
    },
    {
      "cell_type": "markdown",
      "metadata": {
        "id": "U1oRIxZQVluj"
      },
      "source": [
        "### As customer ID is a 5 digit number, we can convert it from a float type to an integer type."
      ]
    },
    {
      "cell_type": "code",
      "metadata": {
        "colab": {
          "base_uri": "https://localhost:8080/"
        },
        "id": "AitMMeP6L_45",
        "outputId": "536de0de-86f6-446e-e437-f9b085bd7f9d"
      },
      "source": [
        "# Sum of null values in the dataset\n",
        "data.isna().sum()"
      ],
      "execution_count": 9,
      "outputs": [
        {
          "output_type": "execute_result",
          "data": {
            "text/plain": [
              "InvoiceNo           0\n",
              "StockCode           0\n",
              "Description         0\n",
              "Quantity            0\n",
              "InvoiceDate         0\n",
              "UnitPrice           0\n",
              "CustomerID     133626\n",
              "Country             0\n",
              "dtype: int64"
            ]
          },
          "metadata": {},
          "execution_count": 9
        }
      ]
    },
    {
      "cell_type": "code",
      "metadata": {
        "colab": {
          "base_uri": "https://localhost:8080/"
        },
        "id": "ZIkbNMiKQN82",
        "outputId": "475fbf4d-8310-4ef9-c652-6b06d519cd34"
      },
      "source": [
        "# Number of unique Customer IDs\n",
        "data['CustomerID'].nunique()"
      ],
      "execution_count": 10,
      "outputs": [
        {
          "output_type": "execute_result",
          "data": {
            "text/plain": [
              "4372"
            ]
          },
          "metadata": {},
          "execution_count": 10
        }
      ]
    },
    {
      "cell_type": "markdown",
      "metadata": {
        "id": "ANjJpP23QVwN"
      },
      "source": [
        "There are 4372 unique customers in the dataset, there are also 133626 null values in the column. There is no particular method to fill these huge number of points. We cannot use median, mean or mode to fill these values. It is close to impossible that one customer ID can fill 133626 rows. Hence, we will drop the rows containing null values."
      ]
    },
    {
      "cell_type": "code",
      "metadata": {
        "id": "lPJXKltRMBj1"
      },
      "source": [
        "# Dropping the rows which contain null values in the Customer ID column\n",
        "data.dropna(subset=['CustomerID'], axis = 0, inplace = True)"
      ],
      "execution_count": 11,
      "outputs": []
    },
    {
      "cell_type": "code",
      "metadata": {
        "colab": {
          "base_uri": "https://localhost:8080/"
        },
        "id": "3Xgcci34RyAm",
        "outputId": "69ba6afd-e2b1-4c3f-a133-ccddb47d9605"
      },
      "source": [
        "# Re-checking null values after removal\n",
        "print(data.isna().sum())\n",
        "print(f'The shape of the data is {data.shape}')"
      ],
      "execution_count": 12,
      "outputs": [
        {
          "output_type": "stream",
          "name": "stdout",
          "text": [
            "InvoiceNo      0\n",
            "StockCode      0\n",
            "Description    0\n",
            "Quantity       0\n",
            "InvoiceDate    0\n",
            "UnitPrice      0\n",
            "CustomerID     0\n",
            "Country        0\n",
            "dtype: int64\n",
            "The shape of the data is (406829, 8)\n"
          ]
        }
      ]
    },
    {
      "cell_type": "code",
      "metadata": {
        "id": "Sq8dOTsFVxeA"
      },
      "source": [
        "# Converting Customer ID column from float type to int type\n",
        "data['CustomerID'] = data['CustomerID'].apply(int)"
      ],
      "execution_count": 13,
      "outputs": []
    },
    {
      "cell_type": "markdown",
      "metadata": {
        "id": "HY1ftfKtSFpv"
      },
      "source": [
        "### The null values have been succesfully removed, unfortunately more than 100000 rows have been lost in the process."
      ]
    },
    {
      "cell_type": "markdown",
      "metadata": {
        "id": "oLj6a26paNcL"
      },
      "source": [
        "### It is known that some of the orders have been cancelled, the invoice numbers of these orders start with a 'C'. The cancelled orders are also removed."
      ]
    },
    {
      "cell_type": "code",
      "metadata": {
        "id": "7NtOfKI0SDzC"
      },
      "source": [
        "# Converting the column to a string type to detect 'C'\n",
        "data['InvoiceNo'] = data['InvoiceNo'].apply(str)"
      ],
      "execution_count": 14,
      "outputs": []
    },
    {
      "cell_type": "code",
      "metadata": {
        "id": "G9F5bzSzX5se"
      },
      "source": [
        "# Creating a function to detect cancelled orders\n",
        "def cancelled_order(rows):\n",
        "  '''Detects cancelled orders and returns YES or NO accordingly'''\n",
        "  if 'C' in rows:\n",
        "    return 'YES'\n",
        "  else:\n",
        "    return 'NO'"
      ],
      "execution_count": 15,
      "outputs": []
    },
    {
      "cell_type": "code",
      "metadata": {
        "id": "q0CQ0y4tZkCG"
      },
      "source": [
        "# Applying the above function and creating a new column to display cancelled orders\n",
        "data['Cancelled'] = data['InvoiceNo'].apply(cancelled_order)"
      ],
      "execution_count": 16,
      "outputs": []
    },
    {
      "cell_type": "code",
      "metadata": {
        "id": "vT57m9rqZq7s"
      },
      "source": [
        "# Dropping the cancelled orders\n",
        "data.drop(data[data['Cancelled'] == 'YES'].index, inplace=True)"
      ],
      "execution_count": 17,
      "outputs": []
    },
    {
      "cell_type": "code",
      "metadata": {
        "id": "sfh1nWAS_fo-"
      },
      "source": [
        "# Dropping the cancelled column\n",
        "data.drop('Cancelled', axis = 1, inplace = True)"
      ],
      "execution_count": 18,
      "outputs": []
    },
    {
      "cell_type": "code",
      "metadata": {
        "id": "YwTz81keM22W"
      },
      "source": [
        "# Converting the Invoice no column back to a numerical type\n",
        "data['InvoiceNo'] = data['InvoiceNo'].apply(int)"
      ],
      "execution_count": 19,
      "outputs": []
    },
    {
      "cell_type": "markdown",
      "metadata": {
        "id": "T_4x1Eq2gbQ3"
      },
      "source": [
        "### Stock code and Item description represent the same thing, but item description describes it more clearly. Hence, we can drop the stock code."
      ]
    },
    {
      "cell_type": "code",
      "metadata": {
        "id": "z-kAWdFjc9Wp"
      },
      "source": [
        "# Dropping Stock Code column\n",
        "data.drop('StockCode', axis = 1, inplace = True)"
      ],
      "execution_count": 20,
      "outputs": []
    },
    {
      "cell_type": "markdown",
      "metadata": {
        "id": "bhX52-C2HFIL"
      },
      "source": [
        "### Using the invoice date column, elements such as day month and year are extracted. This will help in the EDA process."
      ]
    },
    {
      "cell_type": "code",
      "metadata": {
        "id": "_t7ztn2W_PN9"
      },
      "source": [
        "# Using the Invoice date column to extract \n",
        "data['Day'] = data['InvoiceDate'].dt.day\n",
        "data['Month'] = data['InvoiceDate'].dt.month\n",
        "data['Year'] = data['InvoiceDate'].dt.year"
      ],
      "execution_count": 21,
      "outputs": []
    },
    {
      "cell_type": "markdown",
      "metadata": {
        "id": "73jfwGSaIVhB"
      },
      "source": [
        "### The time part of the column is not used because, time of the day does not influence the orders to a large extent."
      ]
    },
    {
      "cell_type": "markdown",
      "metadata": {
        "id": "SKMVkOAgI790"
      },
      "source": [
        "### After extraction of the day, month and year. The invoice date column will be dropped."
      ]
    },
    {
      "cell_type": "code",
      "metadata": {
        "id": "odb9UnG_JkDk"
      },
      "source": [
        "# Dropping the invoice date column\n",
        "data.drop('InvoiceDate', axis = 1, inplace = True)"
      ],
      "execution_count": 22,
      "outputs": []
    },
    {
      "cell_type": "code",
      "metadata": {
        "colab": {
          "base_uri": "https://localhost:8080/",
          "height": 300
        },
        "id": "QRAv4Zq5WE5X",
        "outputId": "75729759-1875-49b4-844b-817dcfbc3d18"
      },
      "source": [
        "# Brief Description of the data\n",
        "data.describe()"
      ],
      "execution_count": 23,
      "outputs": [
        {
          "output_type": "execute_result",
          "data": {
            "text/html": [
              "<div>\n",
              "<style scoped>\n",
              "    .dataframe tbody tr th:only-of-type {\n",
              "        vertical-align: middle;\n",
              "    }\n",
              "\n",
              "    .dataframe tbody tr th {\n",
              "        vertical-align: top;\n",
              "    }\n",
              "\n",
              "    .dataframe thead th {\n",
              "        text-align: right;\n",
              "    }\n",
              "</style>\n",
              "<table border=\"1\" class=\"dataframe\">\n",
              "  <thead>\n",
              "    <tr style=\"text-align: right;\">\n",
              "      <th></th>\n",
              "      <th>InvoiceNo</th>\n",
              "      <th>Quantity</th>\n",
              "      <th>UnitPrice</th>\n",
              "      <th>CustomerID</th>\n",
              "      <th>Day</th>\n",
              "      <th>Month</th>\n",
              "      <th>Year</th>\n",
              "    </tr>\n",
              "  </thead>\n",
              "  <tbody>\n",
              "    <tr>\n",
              "      <th>count</th>\n",
              "      <td>397924.000000</td>\n",
              "      <td>397924.000000</td>\n",
              "      <td>397924.000000</td>\n",
              "      <td>397924.000000</td>\n",
              "      <td>397924.000000</td>\n",
              "      <td>397924.000000</td>\n",
              "      <td>397924.000000</td>\n",
              "    </tr>\n",
              "    <tr>\n",
              "      <th>mean</th>\n",
              "      <td>560617.126645</td>\n",
              "      <td>13.021823</td>\n",
              "      <td>3.116174</td>\n",
              "      <td>15294.315171</td>\n",
              "      <td>15.042181</td>\n",
              "      <td>7.612537</td>\n",
              "      <td>2010.934259</td>\n",
              "    </tr>\n",
              "    <tr>\n",
              "      <th>std</th>\n",
              "      <td>13106.167695</td>\n",
              "      <td>180.420210</td>\n",
              "      <td>22.096788</td>\n",
              "      <td>1713.169877</td>\n",
              "      <td>8.653771</td>\n",
              "      <td>3.416527</td>\n",
              "      <td>0.247829</td>\n",
              "    </tr>\n",
              "    <tr>\n",
              "      <th>min</th>\n",
              "      <td>536365.000000</td>\n",
              "      <td>1.000000</td>\n",
              "      <td>0.000000</td>\n",
              "      <td>12346.000000</td>\n",
              "      <td>1.000000</td>\n",
              "      <td>1.000000</td>\n",
              "      <td>2010.000000</td>\n",
              "    </tr>\n",
              "    <tr>\n",
              "      <th>25%</th>\n",
              "      <td>549234.000000</td>\n",
              "      <td>2.000000</td>\n",
              "      <td>1.250000</td>\n",
              "      <td>13969.000000</td>\n",
              "      <td>7.000000</td>\n",
              "      <td>5.000000</td>\n",
              "      <td>2011.000000</td>\n",
              "    </tr>\n",
              "    <tr>\n",
              "      <th>50%</th>\n",
              "      <td>561893.000000</td>\n",
              "      <td>6.000000</td>\n",
              "      <td>1.950000</td>\n",
              "      <td>15159.000000</td>\n",
              "      <td>15.000000</td>\n",
              "      <td>8.000000</td>\n",
              "      <td>2011.000000</td>\n",
              "    </tr>\n",
              "    <tr>\n",
              "      <th>75%</th>\n",
              "      <td>572090.000000</td>\n",
              "      <td>12.000000</td>\n",
              "      <td>3.750000</td>\n",
              "      <td>16795.000000</td>\n",
              "      <td>22.000000</td>\n",
              "      <td>11.000000</td>\n",
              "      <td>2011.000000</td>\n",
              "    </tr>\n",
              "    <tr>\n",
              "      <th>max</th>\n",
              "      <td>581587.000000</td>\n",
              "      <td>80995.000000</td>\n",
              "      <td>8142.750000</td>\n",
              "      <td>18287.000000</td>\n",
              "      <td>31.000000</td>\n",
              "      <td>12.000000</td>\n",
              "      <td>2011.000000</td>\n",
              "    </tr>\n",
              "  </tbody>\n",
              "</table>\n",
              "</div>"
            ],
            "text/plain": [
              "           InvoiceNo       Quantity  ...          Month           Year\n",
              "count  397924.000000  397924.000000  ...  397924.000000  397924.000000\n",
              "mean   560617.126645      13.021823  ...       7.612537    2010.934259\n",
              "std     13106.167695     180.420210  ...       3.416527       0.247829\n",
              "min    536365.000000       1.000000  ...       1.000000    2010.000000\n",
              "25%    549234.000000       2.000000  ...       5.000000    2011.000000\n",
              "50%    561893.000000       6.000000  ...       8.000000    2011.000000\n",
              "75%    572090.000000      12.000000  ...      11.000000    2011.000000\n",
              "max    581587.000000   80995.000000  ...      12.000000    2011.000000\n",
              "\n",
              "[8 rows x 7 columns]"
            ]
          },
          "metadata": {},
          "execution_count": 23
        }
      ]
    },
    {
      "cell_type": "code",
      "metadata": {
        "colab": {
          "base_uri": "https://localhost:8080/",
          "height": 351
        },
        "id": "LNSRebt9QRMK",
        "outputId": "b79fa3f2-bb68-4fc0-e3b8-6531350cc2e5"
      },
      "source": [
        "# Distribution of the Quantity column\n",
        "sns.distplot(data['Quantity'])"
      ],
      "execution_count": 24,
      "outputs": [
        {
          "output_type": "stream",
          "name": "stderr",
          "text": [
            "/usr/local/lib/python3.7/dist-packages/seaborn/distributions.py:2619: FutureWarning: `distplot` is a deprecated function and will be removed in a future version. Please adapt your code to use either `displot` (a figure-level function with similar flexibility) or `histplot` (an axes-level function for histograms).\n",
            "  warnings.warn(msg, FutureWarning)\n"
          ]
        },
        {
          "output_type": "execute_result",
          "data": {
            "text/plain": [
              "<matplotlib.axes._subplots.AxesSubplot at 0x7fc3451c0250>"
            ]
          },
          "metadata": {},
          "execution_count": 24
        },
        {
          "output_type": "display_data",
          "data": {
            "image/png": "[encoded data removed]",
            "text/plain": [
              "<Figure size 432x288 with 1 Axes>"
            ]
          },
          "metadata": {
            "needs_background": "light"
          }
        }
      ]
    },
    {
      "cell_type": "code",
      "metadata": {
        "colab": {
          "base_uri": "https://localhost:8080/",
          "height": 351
        },
        "id": "PZCm8vs2R8m5",
        "outputId": "99506f6d-18a8-4170-d6be-0ee428b37d6b"
      },
      "source": [
        "# Distribution of the Unit Price column\n",
        "sns.distplot(data['UnitPrice'])"
      ],
      "execution_count": 25,
      "outputs": [
        {
          "output_type": "stream",
          "name": "stderr",
          "text": [
            "/usr/local/lib/python3.7/dist-packages/seaborn/distributions.py:2619: FutureWarning: `distplot` is a deprecated function and will be removed in a future version. Please adapt your code to use either `displot` (a figure-level function with similar flexibility) or `histplot` (an axes-level function for histograms).\n",
            "  warnings.warn(msg, FutureWarning)\n"
          ]
        },
        {
          "output_type": "execute_result",
          "data": {
            "text/plain": [
              "<matplotlib.axes._subplots.AxesSubplot at 0x7fc358c71790>"
            ]
          },
          "metadata": {},
          "execution_count": 25
        },
        {
          "output_type": "display_data",
          "data": {
            "image/png": "[encoded data removed]",
            "text/plain": [
              "<Figure size 432x288 with 1 Axes>"
            ]
          },
          "metadata": {
            "needs_background": "light"
          }
        }
      ]
    },
    {
      "cell_type": "markdown",
      "metadata": {
        "id": "bWamAoEzheYy"
      },
      "source": [
        "### From the description and distribution plots above, it is seen that outliers do exist."
      ]
    },
    {
      "cell_type": "code",
      "metadata": {
        "id": "7_uJfkcJNjua"
      },
      "source": [
        "# Creating a function to remove outliers\n",
        "def remove_outliers(df , column):\n",
        "  '''Removes outliers in given the dataframe and column'''\n",
        "  q3 = df[column].quantile(0.75)\n",
        "  q1 = df[column].quantile(0.25)\n",
        "  iqr = q3 - q1\n",
        "  upper_limit = q3 + (1.5 * iqr)\n",
        "  lower_limit = q1 - (1.5 * iqr)\n",
        "\n",
        "  if lower_limit < 0:\n",
        "    df = df[df[column] <= upper_limit]\n",
        "  else:\n",
        "    df = df[(df[column] >= lower_limit) & (df[column] <= upper_limit)]   \n",
        "  \n",
        "  return df"
      ],
      "execution_count": 26,
      "outputs": []
    },
    {
      "cell_type": "code",
      "metadata": {
        "id": "NdlA-IDQPUDm"
      },
      "source": [
        "# Removing the outliers using the function created\n",
        "data = remove_outliers(df = data, column = 'Quantity')\n",
        "data = remove_outliers(df = data, column = 'UnitPrice')"
      ],
      "execution_count": 27,
      "outputs": []
    },
    {
      "cell_type": "markdown",
      "metadata": {
        "id": "SA6D1I-rjgdD"
      },
      "source": [
        "### In the data cleaning procedure \n",
        "\n",
        "*   Null Values were removed\n",
        "*   Cancelled orders were removed\n",
        "*   Invoice Date column was split to form seperate date, month and year columns\n",
        "*   Outliers were removed\n",
        "*   Columns such as invoice date, stock code have been removed\n",
        "\n"
      ]
    },
    {
      "cell_type": "markdown",
      "metadata": {
        "id": "QEofpvmmkblX"
      },
      "source": [
        "## 2. Exploratory Data Analysis (EDA)"
      ]
    },
    {
      "cell_type": "markdown",
      "metadata": {
        "id": "Zrcix0FqkwsB"
      },
      "source": [
        "### In this section, different columns will be explored individually and also as a combination of different columns."
      ]
    },
    {
      "cell_type": "markdown",
      "metadata": {
        "id": "3dfx4n9MlSMR"
      },
      "source": [
        "### Univariate Analysis"
      ]
    },
    {
      "cell_type": "markdown",
      "metadata": {
        "id": "iFL7FZ1flPLO"
      },
      "source": [
        "### Distribution of Quantity"
      ]
    },
    {
      "cell_type": "code",
      "metadata": {
        "colab": {
          "base_uri": "https://localhost:8080/",
          "height": 421
        },
        "id": "l0lrafi2lFvH",
        "outputId": "18e4c248-f114-43f8-8af9-e9983693611e"
      },
      "source": [
        "# Distribution of the quantity column\n",
        "plt.figure(figsize = (12,6))\n",
        "sns.histplot(data['Quantity'])\n",
        "plt.xticks(np.arange(0,26))\n",
        "plt.title('Quantity sold')"
      ],
      "execution_count": 28,
      "outputs": [
        {
          "output_type": "execute_result",
          "data": {
            "text/plain": [
              "Text(0.5, 1.0, 'Quantity sold')"
            ]
          },
          "metadata": {},
          "execution_count": 28
        },
        {
          "output_type": "display_data",
          "data": {
            "image/png": "[encoded data removed]",
            "text/plain": [
              "<Figure size 864x432 with 1 Axes>"
            ]
          },
          "metadata": {
            "needs_background": "light"
          }
        }
      ]
    },
    {
      "cell_type": "markdown",
      "metadata": {
        "id": "7VTxHmvjq4ro"
      },
      "source": [
        "### From the histogram plotted for quantity, it is seen that, 12 units and single units are highly sold. Units of less than 12 are sold more than units exceeding 12.\n",
        "\n"
      ]
    },
    {
      "cell_type": "markdown",
      "metadata": {
        "id": "3MOO3hKXrqrq"
      },
      "source": [
        "### Top 10 most repeatedly sold items"
      ]
    },
    {
      "cell_type": "code",
      "metadata": {
        "colab": {
          "base_uri": "https://localhost:8080/"
        },
        "id": "KJeEohddterr",
        "outputId": "9c3951f3-2bf5-41f4-f178-74e86df4653a"
      },
      "source": [
        "# Top 10 most repeatedly sold items\n",
        "data['Description'].value_counts()[:10]"
      ],
      "execution_count": 29,
      "outputs": [
        {
          "output_type": "execute_result",
          "data": {
            "text/plain": [
              "WHITE HANGING HEART T-LIGHT HOLDER    1680\n",
              "JUMBO BAG RED RETROSPOT               1329\n",
              "PARTY BUNTING                         1275\n",
              "LUNCH BAG RED RETROSPOT               1207\n",
              "ASSORTED COLOUR BIRD ORNAMENT         1159\n",
              "SET OF 3 CAKE TINS PANTRY DESIGN      1120\n",
              "LUNCH BAG  BLACK SKULL.               1048\n",
              "SPOTTY BUNTING                         976\n",
              "LUNCH BAG SPACEBOY DESIGN              971\n",
              "PACK OF 72 RETROSPOT CAKE CASES        963\n",
              "Name: Description, dtype: int64"
            ]
          },
          "metadata": {},
          "execution_count": 29
        }
      ]
    },
    {
      "cell_type": "code",
      "metadata": {
        "colab": {
          "base_uri": "https://localhost:8080/",
          "height": 399
        },
        "id": "s6UcQzk6Q5qy",
        "outputId": "96e96a2b-1cd2-44cb-e994-23c8c347f172"
      },
      "source": [
        "# Barplot of the top 10 most repeatedly sold items\n",
        "plt.figure(figsize = (26,8))\n",
        "sns.barplot(x = data['Description'].value_counts()[:10].index, y = data['Description'].value_counts()[:10].values)\n",
        "plt.xlabel('Item Name')\n",
        "plt.ylabel('No. of times bought')\n",
        "plt.title('TOP 10 ITEMS REPEATEDLY SOLD')\n",
        "plt.tight_layout()"
      ],
      "execution_count": 30,
      "outputs": [
        {
          "output_type": "display_data",
          "data": {
            "image/png": "[encoded data removed]",
            "text/plain": [
              "<Figure size 1872x576 with 1 Axes>"
            ]
          },
          "metadata": {
            "needs_background": "light"
          }
        }
      ]
    },
    {
      "cell_type": "markdown",
      "metadata": {
        "id": "Stk1jhXCUUe7"
      },
      "source": [
        "### Distribution of the Unit Price"
      ]
    },
    {
      "cell_type": "code",
      "metadata": {
        "colab": {
          "base_uri": "https://localhost:8080/",
          "height": 421
        },
        "id": "L-5fjCoDRcYW",
        "outputId": "52d94ecf-f7f6-409c-848e-da88f55bf885"
      },
      "source": [
        "# Distribution of unit price\n",
        "plt.figure(figsize = (14,6))\n",
        "sns.histplot(data['UnitPrice'], kde=True)\n",
        "plt.title('UNIT PRICE DISTRIBUTION')"
      ],
      "execution_count": 31,
      "outputs": [
        {
          "output_type": "execute_result",
          "data": {
            "text/plain": [
              "Text(0.5, 1.0, 'UNIT PRICE DISTRIBUTION')"
            ]
          },
          "metadata": {},
          "execution_count": 31
        },
        {
          "output_type": "display_data",
          "data": {
            "image/png": "[encoded data removed]",
            "text/plain": [
              "<Figure size 1008x432 with 1 Axes>"
            ]
          },
          "metadata": {
            "needs_background": "light"
          }
        }
      ]
    },
    {
      "cell_type": "markdown",
      "metadata": {
        "id": "Vk7asfAAUZje"
      },
      "source": [
        "### From the distribution of unit price, it is understood that most items have a lower price range. There are comparatively fewer products with higher unit prices than products with lower unit prices."
      ]
    },
    {
      "cell_type": "markdown",
      "metadata": {
        "id": "Kr1Lx_1GU-Te"
      },
      "source": [
        "### Customer who purchased most number of times"
      ]
    },
    {
      "cell_type": "code",
      "metadata": {
        "colab": {
          "base_uri": "https://localhost:8080/",
          "height": 475
        },
        "id": "H-tUB1YHT_Ka",
        "outputId": "148c9e8b-b85b-4262-9ada-bb358a33744a"
      },
      "source": [
        "# Top 10 repeated customer ID\n",
        "plt.figure(figsize = (14,7))\n",
        "sns.barplot(x = data['CustomerID'].value_counts()[:10].index , y = data['CustomerID'].value_counts()[:10].values)\n",
        "plt.xlabel('Customer ID')\n",
        "plt.ylabel('Count of Customer ID')\n",
        "plt.title('TOP 10 REPEATED CUSTOMER ID')"
      ],
      "execution_count": 32,
      "outputs": [
        {
          "output_type": "execute_result",
          "data": {
            "text/plain": [
              "Text(0.5, 1.0, 'TOP 10 REPEATED CUSTOMER ID')"
            ]
          },
          "metadata": {},
          "execution_count": 32
        },
        {
          "output_type": "display_data",
          "data": {
            "image/png": "[encoded data removed]",
            "text/plain": [
              "<Figure size 1008x504 with 1 Axes>"
            ]
          },
          "metadata": {
            "needs_background": "light"
          }
        }
      ]
    },
    {
      "cell_type": "markdown",
      "metadata": {
        "id": "5XIPL7MAXhME"
      },
      "source": [
        "### As seen from the barplot of the customer ID column, customer with the ID 17841 has highest number of counts, which indicates that they purchased many different items."
      ]
    },
    {
      "cell_type": "markdown",
      "metadata": {
        "id": "K495BaCSbC2l"
      },
      "source": [
        "### Countries that were sold different items the most"
      ]
    },
    {
      "cell_type": "code",
      "metadata": {
        "colab": {
          "base_uri": "https://localhost:8080/",
          "height": 475
        },
        "id": "EfN1Xl1wVOt3",
        "outputId": "7dfd5ffb-c7f4-4a2a-9eb9-11c9982f4c19"
      },
      "source": [
        "# Top 10 countries that were sold different items\n",
        "plt.figure(figsize = (14,7))\n",
        "sns.barplot(x = data['Country'].value_counts()[:10].index, y = data['Country'].value_counts()[:10].values)\n",
        "plt.xlabel('Countries')\n",
        "plt.ylabel('Count')\n",
        "plt.title('TOP 10 COUNTRIES SOLD TO')"
      ],
      "execution_count": 33,
      "outputs": [
        {
          "output_type": "execute_result",
          "data": {
            "text/plain": [
              "Text(0.5, 1.0, 'TOP 10 COUNTRIES SOLD TO')"
            ]
          },
          "metadata": {},
          "execution_count": 33
        },
        {
          "output_type": "display_data",
          "data": {
            "image/png": "[encoded data removed]",
            "text/plain": [
              "<Figure size 1008x504 with 1 Axes>"
            ]
          },
          "metadata": {
            "needs_background": "light"
          }
        }
      ]
    },
    {
      "cell_type": "markdown",
      "metadata": {
        "id": "cIAqE4VrcUGp"
      },
      "source": [
        "### From the barplot for purchases by countries, it is clearly seen that United Kingdom dominates the purchases compared to other countries. All the top 10 countries are a part of Europe, itself."
      ]
    },
    {
      "cell_type": "markdown",
      "metadata": {
        "id": "cfkouC00emzJ"
      },
      "source": [
        "### Monthly purchaces"
      ]
    },
    {
      "cell_type": "code",
      "metadata": {
        "colab": {
          "base_uri": "https://localhost:8080/",
          "height": 530
        },
        "id": "KE9o3dXCbjTH",
        "outputId": "cb760ff6-8396-4596-c871-03c58e308540"
      },
      "source": [
        "# Monthly purchases\n",
        "plt.figure(figsize = (18,8))\n",
        "sns.barplot(x = data['Month'].value_counts().index, y = data['Month'].value_counts().values)\n",
        "plt.xlabel('Months')\n",
        "plt.ylabel('Count')\n",
        "plt.title('MONTHLY PURCHASES')"
      ],
      "execution_count": 34,
      "outputs": [
        {
          "output_type": "execute_result",
          "data": {
            "text/plain": [
              "Text(0.5, 1.0, 'MONTHLY PURCHASES')"
            ]
          },
          "metadata": {},
          "execution_count": 34
        },
        {
          "output_type": "display_data",
          "data": {
            "image/png": "[encoded data removed]",
            "text/plain": [
              "<Figure size 1296x576 with 1 Axes>"
            ]
          },
          "metadata": {
            "needs_background": "light"
          }
        }
      ]
    },
    {
      "cell_type": "markdown",
      "metadata": {
        "id": "IOthKXFGd6zo"
      },
      "source": [
        "### From the plot for monthly purchases it is seen that most of the purchases, occur in the month of November, followed by October and December."
      ]
    },
    {
      "cell_type": "markdown",
      "metadata": {
        "id": "HY_oFeERljFW"
      },
      "source": [
        "### Bivariate Analysis"
      ]
    },
    {
      "cell_type": "markdown",
      "metadata": {
        "id": "_XMJvGtVlqOl"
      },
      "source": [
        "### Invoices with highest number of items"
      ]
    },
    {
      "cell_type": "code",
      "metadata": {
        "id": "DrwUZPLAc6dP"
      },
      "source": [
        "# Invoices with most number of items\n",
        "inv_quantity_10 = data.groupby('InvoiceNo').sum()['Quantity'].sort_values(ascending = False)[:10]"
      ],
      "execution_count": 35,
      "outputs": []
    },
    {
      "cell_type": "code",
      "metadata": {
        "colab": {
          "base_uri": "https://localhost:8080/",
          "height": 421
        },
        "id": "cJg87YLQl6kz",
        "outputId": "8915c905-38f6-4c28-ab6a-7127785816b8"
      },
      "source": [
        "# Barplot for invoices with most number of items\n",
        "plt.figure(figsize = (12,6))\n",
        "sns.barplot(x = inv_quantity_10.index, y = inv_quantity_10.values)\n",
        "plt.xlabel('Invoice No.')\n",
        "plt.ylabel('Sum of quantities')\n",
        "plt.title('INVOICE NUMBER AND SUM OF QUANTITIES')"
      ],
      "execution_count": 36,
      "outputs": [
        {
          "output_type": "execute_result",
          "data": {
            "text/plain": [
              "Text(0.5, 1.0, 'INVOICE NUMBER AND SUM OF QUANTITIES')"
            ]
          },
          "metadata": {},
          "execution_count": 36
        },
        {
          "output_type": "display_data",
          "data": {
            "image/png": "[encoded data removed]",
            "text/plain": [
              "<Figure size 864x432 with 1 Axes>"
            ]
          },
          "metadata": {
            "needs_background": "light"
          }
        }
      ]
    },
    {
      "cell_type": "markdown",
      "metadata": {
        "id": "5-ehukL-ok9g"
      },
      "source": [
        "### Invoice No. 570672 has the most number of items in it."
      ]
    },
    {
      "cell_type": "markdown",
      "metadata": {
        "id": "4RFVYNDMsEzy"
      },
      "source": [
        "### Customer ID in terms of quantities purchased"
      ]
    },
    {
      "cell_type": "code",
      "metadata": {
        "id": "Ani55CxHogH7"
      },
      "source": [
        "# Top 10 Customer Id in terms of quantities purchased\n",
        "customer_quantity_10 = data.groupby('CustomerID').sum()['Quantity'].sort_values(ascending = False)[:10]"
      ],
      "execution_count": 37,
      "outputs": []
    },
    {
      "cell_type": "code",
      "metadata": {
        "colab": {
          "base_uri": "https://localhost:8080/",
          "height": 475
        },
        "id": "p4dPn3Gko_N2",
        "outputId": "3b6727d2-1944-4543-a6b5-9fc929426cfe"
      },
      "source": [
        "# Barplot for top 10 customers who purchased in high quantity\n",
        "plt.figure(figsize = (14,7))\n",
        "sns.barplot(x = customer_quantity_10.index, y = customer_quantity_10.values)\n",
        "plt.xlabel('Customer ID')\n",
        "plt.ylabel('Quantity')\n",
        "plt.title('CUSTOMER ID AND SUM OF QUANTITY')"
      ],
      "execution_count": 38,
      "outputs": [
        {
          "output_type": "execute_result",
          "data": {
            "text/plain": [
              "Text(0.5, 1.0, 'CUSTOMER ID AND SUM OF QUANTITY')"
            ]
          },
          "metadata": {},
          "execution_count": 38
        },
        {
          "output_type": "display_data",
          "data": {
            "image/png": "[encoded data removed]",
            "text/plain": [
              "<Figure size 1008x504 with 1 Axes>"
            ]
          },
          "metadata": {
            "needs_background": "light"
          }
        }
      ]
    },
    {
      "cell_type": "markdown",
      "metadata": {
        "id": "IqDPnaQorQVS"
      },
      "source": [
        "### Customer with the ID 14911 purchases in large number significantly more than other customers. This customer could be vital to the business."
      ]
    },
    {
      "cell_type": "markdown",
      "metadata": {
        "id": "pq_equXyusnu"
      },
      "source": [
        "### Items sold in terms of quantites"
      ]
    },
    {
      "cell_type": "code",
      "metadata": {
        "id": "QfabbKxiq-iN"
      },
      "source": [
        "# Top 10 items sold in terms of quantity\n",
        "item_quantity_10 = data.groupby('Description').sum()['Quantity'].sort_values(ascending = False)[:10]"
      ],
      "execution_count": 39,
      "outputs": []
    },
    {
      "cell_type": "code",
      "metadata": {
        "colab": {
          "base_uri": "https://localhost:8080/",
          "height": 336
        },
        "id": "rY0h3MdctbsD",
        "outputId": "e365eab5-aa57-4059-b1e3-dec5dd0ccc4f"
      },
      "source": [
        "# Barplot of top 10 items sold in terms of quantity\n",
        "plt.figure(figsize = (27,7))\n",
        "sns.barplot(x = item_quantity_10.index, y = item_quantity_10.values)\n",
        "plt.xlabel('Item Name')\n",
        "plt.ylabel('Quantities')\n",
        "plt.title('TOP 10 ITEMS AND THEIR QUANTITES SOLD')\n",
        "plt.tight_layout()"
      ],
      "execution_count": 40,
      "outputs": [
        {
          "output_type": "display_data",
          "data": {
            "image/png": "[encoded data removed]",
            "text/plain": [
              "<Figure size 1944x504 with 1 Axes>"
            ]
          },
          "metadata": {
            "needs_background": "light"
          }
        }
      ]
    },
    {
      "cell_type": "markdown",
      "metadata": {
        "id": "9iLszauluZXR"
      },
      "source": [
        "### 'Pack of 72 retrospot cake cases' were highly sold in terms of quantites, around 15000 units."
      ]
    },
    {
      "cell_type": "markdown",
      "metadata": {
        "id": "7SRDxVWTIJJ8"
      },
      "source": [
        "### Correlation between variables"
      ]
    },
    {
      "cell_type": "code",
      "metadata": {
        "colab": {
          "base_uri": "https://localhost:8080/",
          "height": 733
        },
        "id": "MYlIjEQNy3Ir",
        "outputId": "8598ee65-5534-44ef-b082-708109697676"
      },
      "source": [
        "# Correlation between various columns\n",
        "plt.figure(figsize = (18,12))\n",
        "sns.heatmap(data.corr(), annot = True)\n",
        "plt.title('CORRELTAION MATRIX')"
      ],
      "execution_count": 41,
      "outputs": [
        {
          "output_type": "execute_result",
          "data": {
            "text/plain": [
              "Text(0.5, 1.0, 'CORRELTAION MATRIX')"
            ]
          },
          "metadata": {},
          "execution_count": 41
        },
        {
          "output_type": "display_data",
          "data": {
            "image/png": "[encoded data removed]",
            "text/plain": [
              "<Figure size 1296x864 with 2 Axes>"
            ]
          },
          "metadata": {
            "needs_background": "light"
          }
        }
      ]
    },
    {
      "cell_type": "markdown",
      "metadata": {
        "id": "xn8OxUMJ6Szc"
      },
      "source": [
        "### From the correaltion matrix, it is understood that most columns are not correlated to each other. Except for month and year, they are highly correlated with the invoice number. Whereas month and year are negatively correlated.\n"
      ]
    },
    {
      "cell_type": "markdown",
      "metadata": {
        "id": "sY_1htLpGSCV"
      },
      "source": [
        "### From the EDA section some assumptions can be made\n",
        "\n",
        "*   Small to medium quantities of each item are purchased more.\n",
        "*   Unit price for most products is low.\n",
        "*   Last quarter of the year has more orders maybe due to the holiday season.\n",
        "*   As customers buy in large quantites, it is a volume based business.\n",
        "\n"
      ]
    },
    {
      "cell_type": "markdown",
      "metadata": {
        "id": "8aYEuWOAIOWN"
      },
      "source": [
        "## 3. Data Transformation"
      ]
    },
    {
      "cell_type": "markdown",
      "metadata": {
        "id": "b6WHBh3RIpyj"
      },
      "source": [
        "### For the purpose of this project - Recency, Frequency and Monetory (RFM) analysis shall be conducted. On the basis of these 3 factors, customers can be classified into different groups. They can be catered by the business depending on the cluster they belong to."
      ]
    },
    {
      "cell_type": "markdown",
      "metadata": {
        "id": "QUqaVqZiJXS9"
      },
      "source": [
        "### In this section, an RFM dataframe would be conducted which can be further used in a model for clustering."
      ]
    },
    {
      "cell_type": "code",
      "metadata": {
        "id": "fu2HnBIxIS8Q"
      },
      "source": [
        "# Creating an invoice date column\n",
        "data['InvoiceDate'] = pd.to_datetime(data[['Day', 'Month', 'Year']])"
      ],
      "execution_count": 42,
      "outputs": []
    },
    {
      "cell_type": "markdown",
      "metadata": {
        "id": "SdAKPfGKTCD6"
      },
      "source": [
        "### Recency"
      ]
    },
    {
      "cell_type": "markdown",
      "metadata": {
        "id": "wOpCco8HTFfe"
      },
      "source": [
        "### Here, the most recent order of customers is identified."
      ]
    },
    {
      "cell_type": "code",
      "metadata": {
        "id": "vvDQtn1oOgI_"
      },
      "source": [
        "# Most recent date in the dataset\n",
        "latest_date = max(data['InvoiceDate'])"
      ],
      "execution_count": 43,
      "outputs": []
    },
    {
      "cell_type": "code",
      "metadata": {
        "id": "KtQD7oF_TUuc"
      },
      "source": [
        "# Creating a dataframe to find the most recent purchase\n",
        "recency_df = pd.DataFrame(data.groupby('CustomerID').max()['InvoiceDate'], columns = ['InvoiceDate'])\n",
        "recency_df.reset_index(inplace = True)"
      ],
      "execution_count": 44,
      "outputs": []
    },
    {
      "cell_type": "code",
      "metadata": {
        "id": "ZBUpVyv8TsRv"
      },
      "source": [
        "# Calculating days from most recent purchase\n",
        "recency_df['Recency'] = recency_df['InvoiceDate'].apply(lambda x: (latest_date - x).days)\n",
        "recency_df = recency_df.loc[: , ['CustomerID', 'Recency']]"
      ],
      "execution_count": 45,
      "outputs": []
    },
    {
      "cell_type": "markdown",
      "metadata": {
        "id": "it_j5cIYVfkD"
      },
      "source": [
        "### Frequency\n"
      ]
    },
    {
      "cell_type": "markdown",
      "metadata": {
        "id": "tJHEcw_gVjTg"
      },
      "source": [
        "### Frequency of purchased of the customers will be calculated."
      ]
    },
    {
      "cell_type": "markdown",
      "metadata": {
        "id": "RVTFWDRnZbh8"
      },
      "source": [
        "### Frequency would be calculated with the number of unique invoice numbers, which means the number of different times the customer has been billed for the items bought. This would explain the frequency of sales to the customer."
      ]
    },
    {
      "cell_type": "code",
      "metadata": {
        "id": "Mc-QWz_GWOOQ"
      },
      "source": [
        "# Creating a frequency dataframe\n",
        "freq_df = pd.DataFrame(data = data.groupby('CustomerID').nunique()['InvoiceNo'])\n",
        "freq_df.reset_index(inplace = True)\n",
        "freq_df.columns = ['CustomerID', 'Frequency']"
      ],
      "execution_count": 46,
      "outputs": []
    },
    {
      "cell_type": "markdown",
      "metadata": {
        "id": "y4RkI3qsbeR5"
      },
      "source": [
        "### Monetary"
      ]
    },
    {
      "cell_type": "markdown",
      "metadata": {
        "id": "KXxX3gsidQzg"
      },
      "source": [
        "### Here, the sum of billed value for each customer will be calculated."
      ]
    },
    {
      "cell_type": "code",
      "metadata": {
        "colab": {
          "base_uri": "https://localhost:8080/"
        },
        "id": "GkhDcG0mh1yi",
        "outputId": "85cf7a5c-7566-4243-fd27-02a0a0cb817c"
      },
      "source": [
        "# Creating a dataframe with total billed amount\n",
        "monetary_df = data[['CustomerID', 'Quantity', 'UnitPrice']]\n",
        "monetary_df['TotalAmount'] = monetary_df['Quantity'] * monetary_df['UnitPrice']"
      ],
      "execution_count": 47,
      "outputs": [
        {
          "output_type": "stream",
          "name": "stderr",
          "text": [
            "/usr/local/lib/python3.7/dist-packages/ipykernel_launcher.py:3: SettingWithCopyWarning: \n",
            "A value is trying to be set on a copy of a slice from a DataFrame.\n",
            "Try using .loc[row_indexer,col_indexer] = value instead\n",
            "\n",
            "See the caveats in the documentation: https://pandas.pydata.org/pandas-docs/stable/user_guide/indexing.html#returning-a-view-versus-a-copy\n",
            "  This is separate from the ipykernel package so we can avoid doing imports until\n"
          ]
        }
      ]
    },
    {
      "cell_type": "code",
      "metadata": {
        "id": "zUFYSxUkStHo"
      },
      "source": [
        "# Grouping by customer ID to find total billed amount per customer\n",
        "monetary_df = pd.DataFrame(monetary_df.groupby('CustomerID').sum()['TotalAmount'])\n",
        "monetary_df.reset_index(inplace = True)\n",
        "monetary_df.columns = ['CustomerID', 'Monetary']"
      ],
      "execution_count": 48,
      "outputs": []
    },
    {
      "cell_type": "markdown",
      "metadata": {
        "id": "zt2fYNnEjovm"
      },
      "source": [
        "### After creating 3 dataframes for recency, frequency and monetary, each grouped on the basis of customer ID, these can be now merged into one dataframe."
      ]
    },
    {
      "cell_type": "code",
      "metadata": {
        "id": "DXJueDh_alWD"
      },
      "source": [
        "# Merging 3 dataframes to form an RFM dataframe\n",
        "rec_fre = recency_df.merge(freq_df, on = 'CustomerID' )\n",
        "rfm_df = rec_fre.merge(monetary_df, on = 'CustomerID')"
      ],
      "execution_count": 49,
      "outputs": []
    },
    {
      "cell_type": "code",
      "metadata": {
        "colab": {
          "base_uri": "https://localhost:8080/",
          "height": 206
        },
        "id": "el_dGA-1jZ-n",
        "outputId": "f35c2a20-70b3-4987-cd63-d77728c35574"
      },
      "source": [
        "# First 5 rows of the RFM dataframe\n",
        "rfm_df.head()"
      ],
      "execution_count": 50,
      "outputs": [
        {
          "output_type": "execute_result",
          "data": {
            "text/html": [
              "<div>\n",
              "<style scoped>\n",
              "    .dataframe tbody tr th:only-of-type {\n",
              "        vertical-align: middle;\n",
              "    }\n",
              "\n",
              "    .dataframe tbody tr th {\n",
              "        vertical-align: top;\n",
              "    }\n",
              "\n",
              "    .dataframe thead th {\n",
              "        text-align: right;\n",
              "    }\n",
              "</style>\n",
              "<table border=\"1\" class=\"dataframe\">\n",
              "  <thead>\n",
              "    <tr style=\"text-align: right;\">\n",
              "      <th></th>\n",
              "      <th>CustomerID</th>\n",
              "      <th>Recency</th>\n",
              "      <th>Frequency</th>\n",
              "      <th>Monetary</th>\n",
              "    </tr>\n",
              "  </thead>\n",
              "  <tbody>\n",
              "    <tr>\n",
              "      <th>0</th>\n",
              "      <td>12347</td>\n",
              "      <td>2</td>\n",
              "      <td>7</td>\n",
              "      <td>3314.73</td>\n",
              "    </tr>\n",
              "    <tr>\n",
              "      <th>1</th>\n",
              "      <td>12348</td>\n",
              "      <td>248</td>\n",
              "      <td>3</td>\n",
              "      <td>90.20</td>\n",
              "    </tr>\n",
              "    <tr>\n",
              "      <th>2</th>\n",
              "      <td>12349</td>\n",
              "      <td>18</td>\n",
              "      <td>1</td>\n",
              "      <td>999.15</td>\n",
              "    </tr>\n",
              "    <tr>\n",
              "      <th>3</th>\n",
              "      <td>12350</td>\n",
              "      <td>310</td>\n",
              "      <td>1</td>\n",
              "      <td>294.40</td>\n",
              "    </tr>\n",
              "    <tr>\n",
              "      <th>4</th>\n",
              "      <td>12352</td>\n",
              "      <td>36</td>\n",
              "      <td>7</td>\n",
              "      <td>1130.94</td>\n",
              "    </tr>\n",
              "  </tbody>\n",
              "</table>\n",
              "</div>"
            ],
            "text/plain": [
              "   CustomerID  Recency  Frequency  Monetary\n",
              "0       12347        2          7   3314.73\n",
              "1       12348      248          3     90.20\n",
              "2       12349       18          1    999.15\n",
              "3       12350      310          1    294.40\n",
              "4       12352       36          7   1130.94"
            ]
          },
          "metadata": {},
          "execution_count": 50
        }
      ]
    },
    {
      "cell_type": "code",
      "metadata": {
        "colab": {
          "base_uri": "https://localhost:8080/"
        },
        "id": "VRWQN4NrlQyU",
        "outputId": "6da05d42-e89d-48cb-aef8-f3a6c49cec8c"
      },
      "source": [
        "# Information of the RFM dataframe\n",
        "rfm_df.info()"
      ],
      "execution_count": 51,
      "outputs": [
        {
          "output_type": "stream",
          "name": "stdout",
          "text": [
            "<class 'pandas.core.frame.DataFrame'>\n",
            "Int64Index: 4192 entries, 0 to 4191\n",
            "Data columns (total 4 columns):\n",
            " #   Column      Non-Null Count  Dtype  \n",
            "---  ------      --------------  -----  \n",
            " 0   CustomerID  4192 non-null   int64  \n",
            " 1   Recency     4192 non-null   int64  \n",
            " 2   Frequency   4192 non-null   int64  \n",
            " 3   Monetary    4192 non-null   float64\n",
            "dtypes: float64(1), int64(3)\n",
            "memory usage: 163.8 KB\n"
          ]
        }
      ]
    },
    {
      "cell_type": "code",
      "metadata": {
        "colab": {
          "base_uri": "https://localhost:8080/"
        },
        "id": "S3T-mdAfltR3",
        "outputId": "bc7badaa-f749-455a-90f6-3a42d8f89c51"
      },
      "source": [
        "# Number of unique customer ID in the original dataframe\n",
        "data['CustomerID'].nunique()"
      ],
      "execution_count": 52,
      "outputs": [
        {
          "output_type": "execute_result",
          "data": {
            "text/plain": [
              "4192"
            ]
          },
          "metadata": {},
          "execution_count": 52
        }
      ]
    },
    {
      "cell_type": "markdown",
      "metadata": {
        "id": "TMeORS32l4x_"
      },
      "source": [
        "### As seen the number of unique customer IDs in the original datframe match the RFM dataframe. Hence, we have accounted for all the customers."
      ]
    },
    {
      "cell_type": "code",
      "metadata": {
        "id": "rw0Qrjg0lxT3"
      },
      "source": [
        "# Making the customer ID the index of the dataframe\n",
        "rfm_df.set_index('CustomerID', inplace= True)"
      ],
      "execution_count": 53,
      "outputs": []
    },
    {
      "cell_type": "code",
      "metadata": {
        "colab": {
          "base_uri": "https://localhost:8080/",
          "height": 300
        },
        "id": "Sqh6T0IEmJ1C",
        "outputId": "ad158df6-5dc6-4837-e5b3-88677f25620e"
      },
      "source": [
        "rfm_df.describe()"
      ],
      "execution_count": 54,
      "outputs": [
        {
          "output_type": "execute_result",
          "data": {
            "text/html": [
              "<div>\n",
              "<style scoped>\n",
              "    .dataframe tbody tr th:only-of-type {\n",
              "        vertical-align: middle;\n",
              "    }\n",
              "\n",
              "    .dataframe tbody tr th {\n",
              "        vertical-align: top;\n",
              "    }\n",
              "\n",
              "    .dataframe thead th {\n",
              "        text-align: right;\n",
              "    }\n",
              "</style>\n",
              "<table border=\"1\" class=\"dataframe\">\n",
              "  <thead>\n",
              "    <tr style=\"text-align: right;\">\n",
              "      <th></th>\n",
              "      <th>Recency</th>\n",
              "      <th>Frequency</th>\n",
              "      <th>Monetary</th>\n",
              "    </tr>\n",
              "  </thead>\n",
              "  <tbody>\n",
              "    <tr>\n",
              "      <th>count</th>\n",
              "      <td>4192.000000</td>\n",
              "      <td>4192.000000</td>\n",
              "      <td>4192.000000</td>\n",
              "    </tr>\n",
              "    <tr>\n",
              "      <th>mean</th>\n",
              "      <td>91.977576</td>\n",
              "      <td>4.015983</td>\n",
              "      <td>1030.263007</td>\n",
              "    </tr>\n",
              "    <tr>\n",
              "      <th>std</th>\n",
              "      <td>99.896494</td>\n",
              "      <td>7.022919</td>\n",
              "      <td>2205.355349</td>\n",
              "    </tr>\n",
              "    <tr>\n",
              "      <th>min</th>\n",
              "      <td>0.000000</td>\n",
              "      <td>1.000000</td>\n",
              "      <td>0.000000</td>\n",
              "    </tr>\n",
              "    <tr>\n",
              "      <th>25%</th>\n",
              "      <td>17.000000</td>\n",
              "      <td>1.000000</td>\n",
              "      <td>207.850000</td>\n",
              "    </tr>\n",
              "    <tr>\n",
              "      <th>50%</th>\n",
              "      <td>50.000000</td>\n",
              "      <td>2.000000</td>\n",
              "      <td>468.665000</td>\n",
              "    </tr>\n",
              "    <tr>\n",
              "      <th>75%</th>\n",
              "      <td>143.000000</td>\n",
              "      <td>4.000000</td>\n",
              "      <td>1136.625000</td>\n",
              "    </tr>\n",
              "    <tr>\n",
              "      <th>max</th>\n",
              "      <td>373.000000</td>\n",
              "      <td>197.000000</td>\n",
              "      <td>85018.780000</td>\n",
              "    </tr>\n",
              "  </tbody>\n",
              "</table>\n",
              "</div>"
            ],
            "text/plain": [
              "           Recency    Frequency      Monetary\n",
              "count  4192.000000  4192.000000   4192.000000\n",
              "mean     91.977576     4.015983   1030.263007\n",
              "std      99.896494     7.022919   2205.355349\n",
              "min       0.000000     1.000000      0.000000\n",
              "25%      17.000000     1.000000    207.850000\n",
              "50%      50.000000     2.000000    468.665000\n",
              "75%     143.000000     4.000000   1136.625000\n",
              "max     373.000000   197.000000  85018.780000"
            ]
          },
          "metadata": {},
          "execution_count": 54
        }
      ]
    },
    {
      "cell_type": "code",
      "metadata": {
        "colab": {
          "base_uri": "https://localhost:8080/",
          "height": 567
        },
        "id": "QHw-zMEHngpB",
        "outputId": "8c8f61c2-26db-4546-a63d-e512bc0bcf52"
      },
      "source": [
        "# Graphical representation of the relation between recency, frequency and monetary\n",
        "sns.pairplot(rfm_df)"
      ],
      "execution_count": 55,
      "outputs": [
        {
          "output_type": "execute_result",
          "data": {
            "text/plain": [
              "<seaborn.axisgrid.PairGrid at 0x7fc34708e250>"
            ]
          },
          "metadata": {},
          "execution_count": 55
        },
        {
          "output_type": "display_data",
          "data": {
            "image/png": "[encoded data removed]",
            "text/plain": [
              "<Figure size 540x540 with 12 Axes>"
            ]
          },
          "metadata": {
            "needs_background": "light"
          }
        }
      ]
    },
    {
      "cell_type": "markdown",
      "metadata": {
        "id": "NeTq01LAs7eS"
      },
      "source": [
        "### The above pairplot explains the relation between recency, frequency and monetory variables. Each data point represents a customer. It can be seen that :-\n",
        "\n",
        "*   There are many recent purchaces with higher monetary value than older purchases.\n",
        "*   Frequency of orders have been higher recently.\n",
        "*   Frequency and monetory variables have slight linear trend.\n",
        "\n"
      ]
    },
    {
      "cell_type": "markdown",
      "metadata": {
        "id": "fRNMrRaJusLK"
      },
      "source": [
        "### There are some customers who are potential outliers, but these cannot be removed because, for example there is a customer how very recently has had a very high billing value. He could be vital to the business. There is also another customer who has frequently billed a high value. Hence, if these are removed, business could miss classifying their main customers, who could potentially be of high value in the future also."
      ]
    },
    {
      "cell_type": "markdown",
      "metadata": {
        "id": "4cWN-uhMyn_T"
      },
      "source": [
        "### The values in the columns have different ranges which can impact analysis, hence, we will scale all the values to one common range"
      ]
    },
    {
      "cell_type": "code",
      "metadata": {
        "id": "Wv9vJuC-yyfA"
      },
      "source": [
        "# Importing the scaler\n",
        "from sklearn.preprocessing import StandardScaler, Normalizer"
      ],
      "execution_count": 56,
      "outputs": []
    },
    {
      "cell_type": "code",
      "metadata": {
        "id": "66mHQpGQzHb0"
      },
      "source": [
        "# Creating a copy of the rfm dataframe\n",
        "rfm_df_copy = rfm_df.copy()"
      ],
      "execution_count": 57,
      "outputs": []
    },
    {
      "cell_type": "code",
      "metadata": {
        "id": "bB2AMyHjy5Fn"
      },
      "source": [
        "# Scaling the dataframe\n",
        "scaler = StandardScaler()\n",
        "normal = Normalizer()\n",
        "scaled_data = scaler.fit_transform(rfm_df_copy)\n",
        "scaled_data = normal.fit_transform(scaled_data)\n",
        "rfm_scaled = pd.DataFrame(scaled_data, columns = ['Recency','Frequency','Monetary'])\n",
        "rfm_scaled.set_index(rfm_df_copy.index, inplace=True)"
      ],
      "execution_count": 58,
      "outputs": []
    },
    {
      "cell_type": "code",
      "metadata": {
        "colab": {
          "base_uri": "https://localhost:8080/",
          "height": 238
        },
        "id": "FDyNWOos0m9D",
        "outputId": "89e41195-157d-47b3-cd55-058ca4e86dec"
      },
      "source": [
        "# First 5 rows of the scaled data\n",
        "rfm_scaled.head()"
      ],
      "execution_count": 59,
      "outputs": [
        {
          "output_type": "execute_result",
          "data": {
            "text/html": [
              "<div>\n",
              "<style scoped>\n",
              "    .dataframe tbody tr th:only-of-type {\n",
              "        vertical-align: middle;\n",
              "    }\n",
              "\n",
              "    .dataframe tbody tr th {\n",
              "        vertical-align: top;\n",
              "    }\n",
              "\n",
              "    .dataframe thead th {\n",
              "        text-align: right;\n",
              "    }\n",
              "</style>\n",
              "<table border=\"1\" class=\"dataframe\">\n",
              "  <thead>\n",
              "    <tr style=\"text-align: right;\">\n",
              "      <th></th>\n",
              "      <th>Recency</th>\n",
              "      <th>Frequency</th>\n",
              "      <th>Monetary</th>\n",
              "    </tr>\n",
              "    <tr>\n",
              "      <th>CustomerID</th>\n",
              "      <th></th>\n",
              "      <th></th>\n",
              "      <th></th>\n",
              "    </tr>\n",
              "  </thead>\n",
              "  <tbody>\n",
              "    <tr>\n",
              "      <th>12347</th>\n",
              "      <td>-0.626816</td>\n",
              "      <td>0.295692</td>\n",
              "      <td>0.720879</td>\n",
              "    </tr>\n",
              "    <tr>\n",
              "      <th>12348</th>\n",
              "      <td>0.960887</td>\n",
              "      <td>-0.089003</td>\n",
              "      <td>-0.262249</td>\n",
              "    </tr>\n",
              "    <tr>\n",
              "      <th>12349</th>\n",
              "      <td>-0.864947</td>\n",
              "      <td>-0.501592</td>\n",
              "      <td>-0.016478</td>\n",
              "    </tr>\n",
              "    <tr>\n",
              "      <th>12350</th>\n",
              "      <td>0.970328</td>\n",
              "      <td>-0.190932</td>\n",
              "      <td>-0.148350</td>\n",
              "    </tr>\n",
              "    <tr>\n",
              "      <th>12352</th>\n",
              "      <td>-0.795155</td>\n",
              "      <td>0.602936</td>\n",
              "      <td>0.064780</td>\n",
              "    </tr>\n",
              "  </tbody>\n",
              "</table>\n",
              "</div>"
            ],
            "text/plain": [
              "             Recency  Frequency  Monetary\n",
              "CustomerID                               \n",
              "12347      -0.626816   0.295692  0.720879\n",
              "12348       0.960887  -0.089003 -0.262249\n",
              "12349      -0.864947  -0.501592 -0.016478\n",
              "12350       0.970328  -0.190932 -0.148350\n",
              "12352      -0.795155   0.602936  0.064780"
            ]
          },
          "metadata": {},
          "execution_count": 59
        }
      ]
    }
  ]
}